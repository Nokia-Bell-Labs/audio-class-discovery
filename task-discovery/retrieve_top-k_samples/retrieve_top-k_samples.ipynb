{
 "cells": [
  {
   "cell_type": "code",
   "execution_count": null,
   "metadata": {
    "slideshow": {
     "slide_type": "skip"
    },
    "tags": []
   },
   "outputs": [],
   "source": [
    "'''© 2024 Nokia\n",
    "Licensed under the BSD 3-Clause Clear License\n",
    "SPDX-License-Identifier: BSD-3-Clause-Clear '''\n",
    "import numpy as np\n",
    "import pandas as pd\n",
    "import os\n",
    "import sys\n",
    "import torch\n",
    "import seaborn as sns\n",
    "import matplotlib.pyplot as plt\n",
    "sns.set(style='whitegrid')\n",
    "\n",
    "import torchvision\n",
    "import torchvision.transforms as T\n",
    "\n",
    "%matplotlib inline\n",
    "%load_ext autoreload\n",
    "%autoreload 2\n",
    "\n",
    "sys.path.append('../')\n",
    "\n",
    "from utils import tonp\n",
    "import utils\n",
    "\n",
    "torch.set_grad_enabled(False)\n",
    "device = torch.device('cuda')\n",
    "\n",
    "import matplotlib\n",
    "matplotlib.rcParams[\"figure.dpi\"] = 200\n",
    "matplotlib.rcParams[\"figure.facecolor\"] = 'white'"
   ]
  },
  {
   "cell_type": "markdown",
   "metadata": {},
   "source": [
    "## Loading task encoder and retrieving tasks"
   ]
  },
  {
   "cell_type": "code",
   "execution_count": null,
   "metadata": {},
   "outputs": [],
   "source": [
    "TASK_TYPE = 'resnet18'\n",
    "\n",
    "# TODO: Set the task ID (wandb id), checkpoint name, repo name, dataset name\n",
    "# If you did not edit the checkpoint path in taskdiscovery code, you may not need to edit the checkpoint path.\n",
    "TASK_ID = 'your_task_id'\n",
    "CHECKPOINT_NAME = 'your_checkpoint_name'\n",
    "REPO_NAME = 'your_repository_name'\n",
    "PATH = os.path.abspath(f\"../{REPO_NAME}/{TASK_ID}/checkpoints/{CHECKPOINT_NAME}.ckpt\")\n",
    "DATASET = 'your_dataset_name'\n",
    "\n",
    "BATCH_SIZE = 64 "
   ]
  },
  {
   "cell_type": "code",
   "execution_count": null,
   "metadata": {
    "slideshow": {
     "slide_type": "skip"
    },
    "tags": []
   },
   "outputs": [],
   "source": [
    "from models.as_uniformity import ASUniformityTraining\n",
    "\n",
    "model = ASUniformityTraining.load_from_checkpoint(PATH, dataset=DATASET)\n",
    "model.to(device)\n",
    "model.eval();"
   ]
  },
  {
   "cell_type": "code",
   "execution_count": 4,
   "metadata": {
    "slideshow": {
     "slide_type": "skip"
    },
    "tags": []
   },
   "outputs": [],
   "source": [
    "trainloader = model.data_module.train_dataloader(batch_size=BATCH_SIZE) #, drop_last=False)\n",
    "\n",
    "# Retrieve file names from index in dataset\n",
    "pil_images = [item[0] for item in trainloader.dataset]\n",
    "data_sample_indices = [item[2] for item in trainloader.dataset]\n",
    "df = pd.DataFrame({\"PIL_image\": pil_images, \"data_sample_index\": data_sample_indices})\n",
    "filenames = [item[0] for item in trainloader.dataset.imgs]\n",
    "df_filenames = pd.DataFrame({\"filename\": filenames, \"data_sample_index\": data_sample_indices})\n",
    "merged_df = df.merge(df_filenames, on='data_sample_index')"
   ]
  },
  {
   "cell_type": "code",
   "execution_count": 5,
   "metadata": {
    "slideshow": {
     "slide_type": "skip"
    },
    "tags": []
   },
   "outputs": [],
   "source": [
    "xs, idxs, logits, tasks = [], [], [], []\n",
    "batch_num = 0\n",
    "for batch in trainloader:\n",
    "    l = model.logits_all_tasks(batch[0].to(model.device)).cpu()\n",
    "    t = (l > 0).long()\n",
    "    xs.append(batch[0])\n",
    "    idxs.append(batch[2])\n",
    "    logits.append(l)\n",
    "    tasks.append(t)\n",
    "\n",
    "xs, idxs, logits, tasks = map(lambda a: torch.cat(a), [xs, idxs, logits, tasks])"
   ]
  },
  {
   "cell_type": "markdown",
   "metadata": {
    "slideshow": {
     "slide_type": "skip"
    },
    "tags": []
   },
   "source": [
    "## Visualize top k images from each task/class"
   ]
  },
  {
   "cell_type": "code",
   "execution_count": null,
   "metadata": {},
   "outputs": [],
   "source": [
    "# You can change the k for top-k data you want to retreive by changing 20 below.\n",
    "val_botk, idx_botk = (-logits).topk(20,dim=0)\n",
    "val_topk, idx_topk = logits.topk(20,dim=0)"
   ]
  },
  {
   "cell_type": "code",
   "execution_count": null,
   "metadata": {},
   "outputs": [],
   "source": [
    "# Agreement score calculated on the architecture as task-net. E.g., if task-net=mlp then agreement score calculated using mlp architectures.\n",
    "as_table = pd.read_csv(f'../assets/tasks/agreement_table_{TASK_ID}.csv')\n",
    "as_table = as_table[as_table['task'] == TASK_TYPE]\n",
    "\n",
    "if len(as_table) > 0:\n",
    "    as_table = as_table.drop(columns=['task'])\n",
    "    as_table = as_table.set_index('task_idx')\n",
    "else:\n",
    "    as_table = None\n",
    "\n",
    "# If you don't have agreement score (as) table under the visualization, you need to create one from your wandb directory.\n",
    "# For your reference, we put a dummy as table\n",
    "file_path = f'./as_table_check_{TASK_ID}.csv'\n",
    "as_table.to_csv(file_path, index=True)"
   ]
  },
  {
   "cell_type": "code",
   "execution_count": null,
   "metadata": {},
   "outputs": [],
   "source": [
    "def vis_topk(idx_topk, idxbotk, renorm=True, as_table=None, merged_df=None):\n",
    "    nb_tasks = tasks.size(1)    # 32\n",
    "    mean = torch.FloatTensor([x / 255.0 for x in [125.3, 123.0, 113.9]])[None, :, None, None]\n",
    "    std = torch.FloatTensor([x / 255.0 for x in [63.0, 62.1, 66.7]])[None, :, None, None]\n",
    "    \n",
    "    xs_viz = xs\n",
    "\n",
    "    fig,ax = plt.subplots(nb_tasks, 2, figsize=(2*7, nb_tasks*2))\n",
    "\n",
    "\n",
    "    for tid in range(nb_tasks):\n",
    "        img_grid = torchvision.utils.make_grid(xs_viz[idx_topk[:,tid]],nrow=10)\n",
    "        ax[tid,0].imshow(img_grid.permute(1,2,0))\n",
    "\n",
    "        cor_file_index_pairs = []  # Store pairs of (index, filename)\n",
    "        xs_tensor_list = xs[idx_topk[:, tid]]\n",
    "        for xs_item in xs_tensor_list:\n",
    "            #matching = False\n",
    "            for index, row in merged_df.iterrows():\n",
    "                if torch.all(torch.eq(row['PIL_image'], xs_item)):\n",
    "                    cor_file_index_pairs.append((index, row['filename']))\n",
    "                    #break\n",
    "\n",
    "        # Filter out rows in merged_df where no match was found\n",
    "        # merged_df = merged_df.loc[merged_df.index.isin(idx for idx, _ in cor_file_index_pairs)]\n",
    "        \n",
    "        #idx_list, cor_file_names = zip(*cor_file_index_pairs)\n",
    "        if cor_file_index_pairs:\n",
    "            idx_list, cor_file_names = zip(*cor_file_index_pairs)\n",
    "        else:\n",
    "            print(\"Empty cor_file_index_pairs\")\n",
    "            return\n",
    "\n",
    "        cor_file_names_df = pd.DataFrame({'idx': idx_list, 'filename': cor_file_names})\n",
    "\n",
    "        cor_file_names_file_path = f\"{DATASET}/filenames_{TASK_ID}/taskid_{tid}_class1_filenames.csv\"\n",
    "        if not os.path.exists(f\"{DATASET}/filenames_{TASK_ID}\"):\n",
    "            os.makedirs(f\"{DATASET}/filenames_{TASK_ID}\")\n",
    "        cor_file_names_df.to_csv(cor_file_names_file_path, index=False)\n",
    "\n",
    "        img_grid = torchvision.utils.make_grid(xs_viz[idx_botk[:,tid]],nrow=10)\n",
    "        ax[tid,1].imshow(img_grid.permute(1,2,0))\n",
    "        ylabel = f'task {tid}'\n",
    "        if as_table is not None: ylabel += f'\\nAS={as_table.loc[tid][\"as\"]:.2f}'    # as_table length is 20\n",
    "        ax[tid,0].set_ylabel(ylabel, fontsize=15)\n",
    "\n",
    "        #cor_file_names = []\n",
    "        cor_file_index_pairs = []\n",
    "        xs_tensor_list = xs[idx_botk[:,tid]] #.tolist()\n",
    "        for xs_item in xs_tensor_list:\n",
    "            #matching = False\n",
    "            for index, row in merged_df.iterrows():\n",
    "                if torch.all(torch.eq(row['PIL_image'], xs_item)):\n",
    "                    #cor_file_names.append(row['filename'])\n",
    "                    cor_file_index_pairs.append((index, row['filename']))\n",
    "                    #matching = True\n",
    "                    # break\n",
    "        \n",
    "        #idx_list = idx_botk[:,tid].tolist()\n",
    "        if cor_file_index_pairs:\n",
    "            idx_list, cor_file_names = zip(*cor_file_index_pairs)\n",
    "        else:\n",
    "            print(\"Empty cor_file_index_pairs\")\n",
    "            return\n",
    "        \n",
    "        cor_file_names_df = pd.DataFrame({'idx': idx_list, 'filename': cor_file_names})\n",
    "        cor_file_names_file_path = f\"{DATASET}/filenames_{TASK_ID}/taskid_{tid}_class0_filenames.csv\"\n",
    "        cor_file_names_df.to_csv(cor_file_names_file_path, index=False)\n",
    "\n",
    "    ax[0,0].set_title('class 1', size=20)\n",
    "    ax[0,1].set_title('class 0', fontsize=20)\n",
    "\n",
    "    for i in range(nb_tasks):\n",
    "        ax[i,0].grid(False)\n",
    "        ax[i,0].set_yticklabels([])\n",
    "        ax[i,0].set_xticklabels([])\n",
    "        ax[i,1].axis(\"off\")\n",
    "\n",
    "    plt.tight_layout()\n",
    "    if not os.path.exists(DATASET):\n",
    "        os.makedirs(DATASET)\n",
    "    \n",
    "    #plt.savefig(f'{DATASET}/{TASK_ID}_viz.png')"
   ]
  },
  {
   "cell_type": "code",
   "execution_count": null,
   "metadata": {},
   "outputs": [],
   "source": [
    "vis_topk(idx_topk, idx_botk, as_table=as_table, merged_df=merged_df)"
   ]
  }
 ],
 "metadata": {
  "kernelspec": {
   "display_name": "Python 3",
   "language": "python",
   "name": "python3"
  },
  "language_info": {
   "codemirror_mode": {
    "name": "ipython",
    "version": 3
   },
   "file_extension": ".py",
   "mimetype": "text/x-python",
   "name": "python",
   "nbconvert_exporter": "python",
   "pygments_lexer": "ipython3",
   "version": "3.8.5"
  },
  "vscode": {
   "interpreter": {
    "hash": "83c3bc64cdb2fa57c90e4138bece6a48e4148d75db176957f4eccfc04658c255"
   }
  }
 },
 "nbformat": 4,
 "nbformat_minor": 5
}
